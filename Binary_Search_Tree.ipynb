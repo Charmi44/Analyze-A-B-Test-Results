{
  "nbformat": 4,
  "nbformat_minor": 0,
  "metadata": {
    "colab": {
      "name": "Binary_Search_Tree.ipynb",
      "provenance": [],
      "collapsed_sections": [],
      "authorship_tag": "ABX9TyMFZArjfCZFxmnMG3bJ9pOm",
      "include_colab_link": true
    },
    "kernelspec": {
      "name": "python3",
      "display_name": "Python 3"
    }
  },
  "cells": [
    {
      "cell_type": "markdown",
      "metadata": {
        "id": "view-in-github",
        "colab_type": "text"
      },
      "source": [
        "<a href=\"https://colab.research.google.com/github/Charmi44/Analyze-A-B-Test-Results/blob/master/Binary_Search_Tree.ipynb\" target=\"_parent\"><img src=\"https://colab.research.google.com/assets/colab-badge.svg\" alt=\"Open In Colab\"/></a>"
      ]
    },
    {
      "cell_type": "markdown",
      "metadata": {
        "id": "QO-UC5mfrFTz",
        "colab_type": "text"
      },
      "source": [
        "### Advantage of BST over Hash Table:\n",
        "Hash Table -- The average time complexity of insert, search, delete operation is O(1)\n",
        "\n",
        "BST(AVL, Red Black Tree) -- The average time complexity of insert, search, delete operation is O(logn)\n",
        "\n",
        "points in favor of BST -\n",
        "1. We can get all keys in sorted order just by inorder traversal\n",
        "2. Doing order statistics, finding closest lower and greater elements, doing range queries are easy to do with BSTs\n",
        "3. BSTs are easy to implement compared to hashing, for hash table we rely on libraries\n",
        "4. With self balancing BSTs, all operation work in O(logn) time; but with hashing complexity can grow when table resizing happens.\n",
        "\n",
        "\n"
      ]
    },
    {
      "cell_type": "code",
      "metadata": {
        "id": "--v8iPdcrB8N",
        "colab_type": "code",
        "colab": {}
      },
      "source": [
        "class TreeNode:\n",
        "  def __init__(self,val):\n",
        "    self.left = None\n",
        "    self.right = None\n",
        "    self.val = val\n",
        "\n",
        "def insert(root,node):\n",
        "  if not root:\n",
        "    root = node\n",
        "  else:\n",
        "    if root.val < node.val:\n",
        "      if not root.right:\n",
        "        root.right = node\n",
        "      else:\n",
        "        insert(root.right,node)\n",
        "    else:\n",
        "      if not root.left:\n",
        "        root.left = node\n",
        "      else:\n",
        "        insert(root.left,node)\n",
        "  \n",
        "def search(root,key):\n",
        "  if not root or root.val == key:\n",
        "    return root\n",
        "  if root.val<key:\n",
        "    return search(root.right,key)\n",
        "  else:\n",
        "    return search(root.left,key)\n",
        "\n",
        "\n",
        "\"\"\"\n",
        "Recursion : O(space) - average = O(logn), worst = O(n) ; o(time) - Best = O(1),average=O(logn), worst=O(n) {worst when tree skewed}\n",
        "Iteration : o(space) - O(1)[no recursion stack], same as recursion\n",
        "\n",
        "\"\"\"\n",
        "  \n",
        "def insert_iteratively(root,val):\n",
        "  if not root:\n",
        "    return TreeNode(val)\n",
        "  current = root\n",
        "  while True:\n",
        "    if current.val < val:\n",
        "      if current.right:\n",
        "        current = current.right\n",
        "      else: #if root.right is None\n",
        "        current.right = TreeNode(val)\n",
        "        break\n",
        "    else:\n",
        "      if current.left:\n",
        "        current = current.left\n",
        "      else:\n",
        "        current.left = TreeNode(val)\n",
        "        break\n",
        "  return root\n",
        "\n",
        "\n",
        "def search_iteratively(root,node):\n",
        "  current = root\n",
        "  while current != None:\n",
        "    if current.val == node:\n",
        "      return current\n",
        "    elif current.val < node:\n",
        "      current = current.right\n",
        "    else:\n",
        "      current = current.left\n",
        "  return None\n",
        "\n",
        "\n",
        "def delete(root,node):\n",
        "  if not root:\n",
        "    return root\n",
        "\n",
        "def printInorder(root):\n",
        "  if root:\n",
        "    printInorder(root.left)\n",
        "    print(root.val,end = \" \")\n",
        "    printInorder(root.right)\n",
        "\n"
      ],
      "execution_count": 12,
      "outputs": []
    },
    {
      "cell_type": "code",
      "metadata": {
        "id": "pwF27jvC1lso",
        "colab_type": "code",
        "colab": {
          "base_uri": "https://localhost:8080/",
          "height": 34
        },
        "outputId": "549aa5d4-7d6e-47f2-a9db-790933c176d6"
      },
      "source": [
        "root = TreeNode(5)\n",
        "insert(root,TreeNode(3)) \n",
        "insert(root,TreeNode(2)) \n",
        "insert(root,TreeNode(4)) \n",
        "insert(root,TreeNode(7)) \n",
        "insert(root,TreeNode(6)) \n",
        "insert(root,TreeNode(8)) \n",
        "insert_iteratively(root,12)\n",
        "\n",
        "a = search(root,7)\n",
        "b = search_iteratively(root,12)\n",
        "c = search(root,55)\n",
        "\n",
        "printInorder(root)"
      ],
      "execution_count": 4,
      "outputs": [
        {
          "output_type": "stream",
          "text": [
            "2 3 4 5 6 7 8 12 "
          ],
          "name": "stdout"
        }
      ]
    },
    {
      "cell_type": "code",
      "metadata": {
        "id": "ULcL-bKG2ALu",
        "colab_type": "code",
        "colab": {
          "base_uri": "https://localhost:8080/",
          "height": 34
        },
        "outputId": "c6350a38-2aae-4951-d020-cc8fffa68b49"
      },
      "source": [
        "a.val, b.val, c"
      ],
      "execution_count": 5,
      "outputs": [
        {
          "output_type": "execute_result",
          "data": {
            "text/plain": [
              "(7, 12, None)"
            ]
          },
          "metadata": {
            "tags": []
          },
          "execution_count": 5
        }
      ]
    },
    {
      "cell_type": "code",
      "metadata": {
        "id": "nedlIu_s2aPz",
        "colab_type": "code",
        "colab": {}
      },
      "source": [
        "def deleteNode(root,key): # ------ O(time) : O(h), average case = O(logn), worst case = O(n) when tree is skewed\n",
        "  if not root:\n",
        "    return root\n",
        "  \n",
        "  if key<root.val:\n",
        "    root.left = deleteNode(root.left,key)\n",
        "  elif key>root.val:\n",
        "    root.right = deleteNode(root.right,key)\n",
        "\n",
        "  else: #when key to be deleted is same as current root\n",
        "    #Node to be deleted has only one child\n",
        "    if not root.left:\n",
        "      temp = root.right\n",
        "      root = None\n",
        "      return temp\n",
        "    \n",
        "    elif not root.right:\n",
        "      temp = root.left\n",
        "      root = None\n",
        "      return temp\n",
        "    \n",
        "    #Node to deleted has both childern non empty; get the inorder successor(inorder predecessor also works)\n",
        "    temp = getInorderSuccessor(root.right)\n",
        "    root.val = temp.val #set inorder successor as root\n",
        "    root.right = deleteNode(root.right,temp.val)\n",
        "\n",
        "  return root\n",
        "\n",
        "\n",
        "def getInorderSuccessor(root):\n",
        "  current = root\n",
        "  while current.left: #loop down till left most element\n",
        "    current = current.left\n",
        "  return current\n",
        "\n",
        "def findMinimum(root):\n",
        "  while root.left:\n",
        "    root = root.left\n",
        "  return print(\"Minimum value: \", root.val)\n",
        "\n"
      ],
      "execution_count": 10,
      "outputs": []
    },
    {
      "cell_type": "code",
      "metadata": {
        "id": "KcCEdK6snSV9",
        "colab_type": "code",
        "colab": {
          "base_uri": "https://localhost:8080/",
          "height": 101
        },
        "outputId": "0357e1ad-9839-4b1a-93a1-09df62982c6f"
      },
      "source": [
        "printInorder(root)\n",
        "deleteNode(root,4)\n",
        "print(\"\\n After Delete\")\n",
        "printInorder(root)\n",
        "print(\"\\n root = \", root.val)\n",
        "findMinimum(root)\n"
      ],
      "execution_count": 11,
      "outputs": [
        {
          "output_type": "stream",
          "text": [
            "2 3 5 6 7 8 12 \n",
            " After Delete\n",
            "2 3 5 6 7 8 12 \n",
            " root =  5\n",
            "Minimum value:  2\n"
          ],
          "name": "stdout"
        }
      ]
    },
    {
      "cell_type": "markdown",
      "metadata": {
        "id": "ONQPEosam8wC",
        "colab_type": "text"
      },
      "source": [
        "#Stacks and Queues Link\n",
        "\n",
        "https://colab.research.google.com/drive/1nQgv3eRY1IXkarq3nRtQtdeID0BlAOSp#scrollTo=WWyuP5D5Xpsh"
      ]
    },
    {
      "cell_type": "code",
      "metadata": {
        "id": "CTXrqI24n8lj",
        "colab_type": "code",
        "colab": {}
      },
      "source": [
        ""
      ],
      "execution_count": null,
      "outputs": []
    },
    {
      "cell_type": "code",
      "metadata": {
        "id": "5QvCbdjpoPjE",
        "colab_type": "code",
        "colab": {}
      },
      "source": [
        ""
      ],
      "execution_count": null,
      "outputs": []
    }
  ]
}